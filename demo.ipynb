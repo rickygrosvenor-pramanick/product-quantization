{
 "cells": [
  {
   "cell_type": "markdown",
   "id": "72a7bb5d",
   "metadata": {},
   "source": [
    "# Product Quantization Demo\n",
    "\n",
    "This notebook demonstrates the complete Product Quantization pipeline."
   ]
  },
  {
   "cell_type": "code",
   "execution_count": null,
   "id": "0bf9576e",
   "metadata": {},
   "outputs": [],
   "source": [
    "# Import required modules\n",
    "import pandas as pd\n",
    "import numpy as np\n",
    "from dotenv import load_dotenv\n",
    "\n",
    "# Load environment variables from .env file\n",
    "load_dotenv()\n",
    "\n",
    "from data_processor import DataProcessor, SimpleRetrievalSystem\n",
    "from pq import ProductQuantizer, generate_random_embeddings\n",
    "\n",
    "print(\"Modules imported successfully!\")\n",
    "print(\"Environment variables loaded from .env file\")"
   ]
  },
  {
   "cell_type": "code",
   "execution_count": null,
   "id": "b13d79da",
   "metadata": {},
   "outputs": [],
   "source": [
    "# Load and process data\n",
    "processor = DataProcessor()\n",
    "df = processor.load_data()\n",
    "print(f\"Loaded {len(df)} sentences\")\n",
    "df.head()"
   ]
  },
  {
   "cell_type": "code",
   "execution_count": null,
   "id": "e9d87bc0",
   "metadata": {},
   "outputs": [],
   "source": [
    "# Generate embeddings (using random for demo - replace with Cohere if available)\n",
    "embeddings = generate_random_embeddings(len(processor.texts), 384)\n",
    "processor.embeddings = embeddings\n",
    "print(f\"Generated embeddings shape: {embeddings.shape}\")"
   ]
  },
  {
   "cell_type": "code",
   "execution_count": null,
   "id": "ba94d856",
   "metadata": {},
   "outputs": [],
   "source": [
    "# Train Product Quantizer\n",
    "pq = ProductQuantizer(M=8, K=256, verbose=True)\n",
    "pq.fit(embeddings)\n",
    "\n",
    "# Show compression statistics\n",
    "memory_stats = pq.get_memory_usage(len(embeddings))\n",
    "print(f\"\\nCompression Analysis:\")\n",
    "for key, value in memory_stats.items():\n",
    "    if 'ratio' in key:\n",
    "        print(f\"{key}: {value:.1f}x\")\n",
    "    else:\n",
    "        print(f\"{key}: {value/1024:.1f} KB\")"
   ]
  },
  {
   "cell_type": "code",
   "execution_count": null,
   "id": "c24e503e",
   "metadata": {},
   "outputs": [],
   "source": [
    "# Create retrieval system\n",
    "retrieval_system = SimpleRetrievalSystem(M=8, K=256)\n",
    "retrieval_system.pq = pq  # Use trained quantizer\n",
    "retrieval_system.index_documents(embeddings, processor.texts, processor.sentiments)\n",
    "\n",
    "print(\"Retrieval system ready!\")"
   ]
  },
  {
   "cell_type": "code",
   "execution_count": null,
   "id": "f4427561",
   "metadata": {},
   "outputs": [],
   "source": [
    "# Demo search\n",
    "query_embedding = embeddings[0]  # Use first embedding as query\n",
    "results, distances, sentiments = retrieval_system.search(query_embedding, k=5)\n",
    "\n",
    "print(\"Search Results:\")\n",
    "for i, (text, dist, sentiment) in enumerate(zip(results, distances, sentiments)):\n",
    "    print(f\"{i+1}. [{sentiment}] (distance: {dist:.3f})\")\n",
    "    print(f\"   {text[:100]}...\\n\")"
   ]
  },
  {
   "cell_type": "code",
   "execution_count": null,
   "id": "7a98f85f",
   "metadata": {},
   "outputs": [],
   "source": [
    "# Evaluate performance\n",
    "test_queries = embeddings[:10]  # Use first 10 as test queries\n",
    "recall_results = retrieval_system.evaluate_recall(test_queries)\n",
    "\n",
    "print(\"Recall Performance:\")\n",
    "for k, recall in recall_results.items():\n",
    "    print(f\"Recall@{k}: {recall:.3f}\")"
   ]
  }
 ],
 "metadata": {
  "language_info": {
   "name": "python"
  }
 },
 "nbformat": 4,
 "nbformat_minor": 5
}
